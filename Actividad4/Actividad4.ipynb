{
 "cells": [
  {
   "cell_type": "code",
   "execution_count": 1,
   "metadata": {},
   "outputs": [
    {
     "data": {
      "text/html": [
       "<div>\n",
       "<style scoped>\n",
       "    .dataframe tbody tr th:only-of-type {\n",
       "        vertical-align: middle;\n",
       "    }\n",
       "\n",
       "    .dataframe tbody tr th {\n",
       "        vertical-align: top;\n",
       "    }\n",
       "\n",
       "    .dataframe thead th {\n",
       "        text-align: right;\n",
       "    }\n",
       "</style>\n",
       "<table border=\"1\" class=\"dataframe\">\n",
       "  <thead>\n",
       "    <tr style=\"text-align: right;\">\n",
       "      <th></th>\n",
       "      <th>FECHA</th>\n",
       "      <th>PRECIP</th>\n",
       "      <th>EVAP</th>\n",
       "      <th>TMAX</th>\n",
       "      <th>TMIN</th>\n",
       "    </tr>\n",
       "  </thead>\n",
       "  <tbody>\n",
       "    <tr>\n",
       "      <th>0</th>\n",
       "      <td>16/01/1969</td>\n",
       "      <td>0.0</td>\n",
       "      <td>3.2</td>\n",
       "      <td>26.0</td>\n",
       "      <td>13.5</td>\n",
       "    </tr>\n",
       "    <tr>\n",
       "      <th>1</th>\n",
       "      <td>17/01/1969</td>\n",
       "      <td>0.0</td>\n",
       "      <td>2.6</td>\n",
       "      <td>27.0</td>\n",
       "      <td>13.0</td>\n",
       "    </tr>\n",
       "    <tr>\n",
       "      <th>2</th>\n",
       "      <td>18/01/1969</td>\n",
       "      <td>0.0</td>\n",
       "      <td>0.5</td>\n",
       "      <td>26.0</td>\n",
       "      <td>11.5</td>\n",
       "    </tr>\n",
       "    <tr>\n",
       "      <th>3</th>\n",
       "      <td>19/01/1969</td>\n",
       "      <td>0.0</td>\n",
       "      <td>5.1</td>\n",
       "      <td>25.0</td>\n",
       "      <td>11.5</td>\n",
       "    </tr>\n",
       "    <tr>\n",
       "      <th>4</th>\n",
       "      <td>20/01/1969</td>\n",
       "      <td>0.0</td>\n",
       "      <td>3.5</td>\n",
       "      <td>29.0</td>\n",
       "      <td>10.5</td>\n",
       "    </tr>\n",
       "    <tr>\n",
       "      <th>5</th>\n",
       "      <td>21/01/1969</td>\n",
       "      <td>0.0</td>\n",
       "      <td>2.0</td>\n",
       "      <td>29.0</td>\n",
       "      <td>9.5</td>\n",
       "    </tr>\n",
       "    <tr>\n",
       "      <th>6</th>\n",
       "      <td>22/01/1969</td>\n",
       "      <td>0.0</td>\n",
       "      <td>3.0</td>\n",
       "      <td>28.5</td>\n",
       "      <td>11.0</td>\n",
       "    </tr>\n",
       "    <tr>\n",
       "      <th>7</th>\n",
       "      <td>23/01/1969</td>\n",
       "      <td>0.0</td>\n",
       "      <td>2.8</td>\n",
       "      <td>27.5</td>\n",
       "      <td>11.0</td>\n",
       "    </tr>\n",
       "    <tr>\n",
       "      <th>8</th>\n",
       "      <td>24/01/1969</td>\n",
       "      <td>0.0</td>\n",
       "      <td>3.9</td>\n",
       "      <td>29.0</td>\n",
       "      <td>10.0</td>\n",
       "    </tr>\n",
       "    <tr>\n",
       "      <th>9</th>\n",
       "      <td>25/01/1969</td>\n",
       "      <td>0.0</td>\n",
       "      <td>2.5</td>\n",
       "      <td>29.0</td>\n",
       "      <td>10.0</td>\n",
       "    </tr>\n",
       "    <tr>\n",
       "      <th>10</th>\n",
       "      <td>26/01/1969</td>\n",
       "      <td>0.0</td>\n",
       "      <td>2.8</td>\n",
       "      <td>32.0</td>\n",
       "      <td>10.5</td>\n",
       "    </tr>\n",
       "    <tr>\n",
       "      <th>11</th>\n",
       "      <td>27/01/1969</td>\n",
       "      <td>0.0</td>\n",
       "      <td>2.0</td>\n",
       "      <td>29.0</td>\n",
       "      <td>11.5</td>\n",
       "    </tr>\n",
       "    <tr>\n",
       "      <th>12</th>\n",
       "      <td>28/01/1969</td>\n",
       "      <td>0.0</td>\n",
       "      <td>3.4</td>\n",
       "      <td>29.0</td>\n",
       "      <td>13.5</td>\n",
       "    </tr>\n",
       "    <tr>\n",
       "      <th>13</th>\n",
       "      <td>29/01/1969</td>\n",
       "      <td>0.0</td>\n",
       "      <td>5.7</td>\n",
       "      <td>25.0</td>\n",
       "      <td>15.5</td>\n",
       "    </tr>\n",
       "    <tr>\n",
       "      <th>14</th>\n",
       "      <td>30/01/1969</td>\n",
       "      <td>0.0</td>\n",
       "      <td>0.9</td>\n",
       "      <td>24.5</td>\n",
       "      <td>14.5</td>\n",
       "    </tr>\n",
       "    <tr>\n",
       "      <th>15</th>\n",
       "      <td>31/01/1969</td>\n",
       "      <td>0.0</td>\n",
       "      <td>3.7</td>\n",
       "      <td>19.5</td>\n",
       "      <td>14.0</td>\n",
       "    </tr>\n",
       "    <tr>\n",
       "      <th>16</th>\n",
       "      <td>01/02/1969</td>\n",
       "      <td>0.0</td>\n",
       "      <td>5.2</td>\n",
       "      <td>22.5</td>\n",
       "      <td>12.5</td>\n",
       "    </tr>\n",
       "    <tr>\n",
       "      <th>17</th>\n",
       "      <td>02/02/1969</td>\n",
       "      <td>0.0</td>\n",
       "      <td>1.8</td>\n",
       "      <td>24.0</td>\n",
       "      <td>9.0</td>\n",
       "    </tr>\n",
       "    <tr>\n",
       "      <th>18</th>\n",
       "      <td>03/02/1969</td>\n",
       "      <td>3.0</td>\n",
       "      <td>2.0</td>\n",
       "      <td>23.0</td>\n",
       "      <td>9.0</td>\n",
       "    </tr>\n",
       "    <tr>\n",
       "      <th>19</th>\n",
       "      <td>04/02/1969</td>\n",
       "      <td>0.0</td>\n",
       "      <td>5.0</td>\n",
       "      <td>28.5</td>\n",
       "      <td>12.0</td>\n",
       "    </tr>\n",
       "    <tr>\n",
       "      <th>20</th>\n",
       "      <td>05/02/1969</td>\n",
       "      <td>1.0</td>\n",
       "      <td>4.6</td>\n",
       "      <td>22.5</td>\n",
       "      <td>12.5</td>\n",
       "    </tr>\n",
       "    <tr>\n",
       "      <th>21</th>\n",
       "      <td>06/02/1969</td>\n",
       "      <td>0.0</td>\n",
       "      <td>0.8</td>\n",
       "      <td>25.0</td>\n",
       "      <td>16.0</td>\n",
       "    </tr>\n",
       "    <tr>\n",
       "      <th>22</th>\n",
       "      <td>07/02/1969</td>\n",
       "      <td>0.9</td>\n",
       "      <td>6.2</td>\n",
       "      <td>27.0</td>\n",
       "      <td>14.0</td>\n",
       "    </tr>\n",
       "    <tr>\n",
       "      <th>23</th>\n",
       "      <td>08/02/1969</td>\n",
       "      <td>0.0</td>\n",
       "      <td>2.2</td>\n",
       "      <td>20.0</td>\n",
       "      <td>13.0</td>\n",
       "    </tr>\n",
       "    <tr>\n",
       "      <th>24</th>\n",
       "      <td>09/02/1969</td>\n",
       "      <td>0.0</td>\n",
       "      <td>2.4</td>\n",
       "      <td>28.0</td>\n",
       "      <td>13.0</td>\n",
       "    </tr>\n",
       "    <tr>\n",
       "      <th>25</th>\n",
       "      <td>10/02/1969</td>\n",
       "      <td>0.0</td>\n",
       "      <td>4.3</td>\n",
       "      <td>29.0</td>\n",
       "      <td>12.0</td>\n",
       "    </tr>\n",
       "    <tr>\n",
       "      <th>26</th>\n",
       "      <td>11/02/1969</td>\n",
       "      <td>4.5</td>\n",
       "      <td>3.9</td>\n",
       "      <td>28.0</td>\n",
       "      <td>11.0</td>\n",
       "    </tr>\n",
       "    <tr>\n",
       "      <th>27</th>\n",
       "      <td>12/02/1969</td>\n",
       "      <td>0.0</td>\n",
       "      <td>3.1</td>\n",
       "      <td>26.0</td>\n",
       "      <td>9.0</td>\n",
       "    </tr>\n",
       "    <tr>\n",
       "      <th>28</th>\n",
       "      <td>13/02/1969</td>\n",
       "      <td>0.0</td>\n",
       "      <td>4.1</td>\n",
       "      <td>22.5</td>\n",
       "      <td>14.5</td>\n",
       "    </tr>\n",
       "    <tr>\n",
       "      <th>29</th>\n",
       "      <td>14/02/1969</td>\n",
       "      <td>0.0</td>\n",
       "      <td>3.0</td>\n",
       "      <td>26.0</td>\n",
       "      <td>10.0</td>\n",
       "    </tr>\n",
       "    <tr>\n",
       "      <th>...</th>\n",
       "      <td>...</td>\n",
       "      <td>...</td>\n",
       "      <td>...</td>\n",
       "      <td>...</td>\n",
       "      <td>...</td>\n",
       "    </tr>\n",
       "    <tr>\n",
       "      <th>4146</th>\n",
       "      <td>02/12/1985</td>\n",
       "      <td>0.0</td>\n",
       "      <td>1.3</td>\n",
       "      <td>29.0</td>\n",
       "      <td>12.0</td>\n",
       "    </tr>\n",
       "    <tr>\n",
       "      <th>4147</th>\n",
       "      <td>03/12/1985</td>\n",
       "      <td>0.0</td>\n",
       "      <td>3.7</td>\n",
       "      <td>29.0</td>\n",
       "      <td>11.0</td>\n",
       "    </tr>\n",
       "    <tr>\n",
       "      <th>4148</th>\n",
       "      <td>04/12/1985</td>\n",
       "      <td>0.0</td>\n",
       "      <td>2.4</td>\n",
       "      <td>30.0</td>\n",
       "      <td>13.0</td>\n",
       "    </tr>\n",
       "    <tr>\n",
       "      <th>4149</th>\n",
       "      <td>05/12/1985</td>\n",
       "      <td>0.0</td>\n",
       "      <td>2.6</td>\n",
       "      <td>28.5</td>\n",
       "      <td>11.0</td>\n",
       "    </tr>\n",
       "    <tr>\n",
       "      <th>4150</th>\n",
       "      <td>06/12/1985</td>\n",
       "      <td>0.0</td>\n",
       "      <td>2.2</td>\n",
       "      <td>30.0</td>\n",
       "      <td>12.5</td>\n",
       "    </tr>\n",
       "    <tr>\n",
       "      <th>4151</th>\n",
       "      <td>07/12/1985</td>\n",
       "      <td>0.0</td>\n",
       "      <td>2.5</td>\n",
       "      <td>27.5</td>\n",
       "      <td>15.5</td>\n",
       "    </tr>\n",
       "    <tr>\n",
       "      <th>4152</th>\n",
       "      <td>08/12/1985</td>\n",
       "      <td>0.0</td>\n",
       "      <td>2.8</td>\n",
       "      <td>29.0</td>\n",
       "      <td>13.0</td>\n",
       "    </tr>\n",
       "    <tr>\n",
       "      <th>4153</th>\n",
       "      <td>09/12/1985</td>\n",
       "      <td>0.0</td>\n",
       "      <td>2.7</td>\n",
       "      <td>33.0</td>\n",
       "      <td>9.5</td>\n",
       "    </tr>\n",
       "    <tr>\n",
       "      <th>4154</th>\n",
       "      <td>10/12/1985</td>\n",
       "      <td>0.0</td>\n",
       "      <td>2.2</td>\n",
       "      <td>24.5</td>\n",
       "      <td>10.5</td>\n",
       "    </tr>\n",
       "    <tr>\n",
       "      <th>4155</th>\n",
       "      <td>11/12/1985</td>\n",
       "      <td>0.0</td>\n",
       "      <td>2.8</td>\n",
       "      <td>27.5</td>\n",
       "      <td>10.0</td>\n",
       "    </tr>\n",
       "    <tr>\n",
       "      <th>4156</th>\n",
       "      <td>12/12/1985</td>\n",
       "      <td>0.0</td>\n",
       "      <td>4.1</td>\n",
       "      <td>22.0</td>\n",
       "      <td>11.0</td>\n",
       "    </tr>\n",
       "    <tr>\n",
       "      <th>4157</th>\n",
       "      <td>13/12/1985</td>\n",
       "      <td>0.0</td>\n",
       "      <td>3.2</td>\n",
       "      <td>24.0</td>\n",
       "      <td>7.5</td>\n",
       "    </tr>\n",
       "    <tr>\n",
       "      <th>4158</th>\n",
       "      <td>14/12/1985</td>\n",
       "      <td>0.0</td>\n",
       "      <td>3.0</td>\n",
       "      <td>25.0</td>\n",
       "      <td>9.0</td>\n",
       "    </tr>\n",
       "    <tr>\n",
       "      <th>4159</th>\n",
       "      <td>15/12/1985</td>\n",
       "      <td>0.0</td>\n",
       "      <td>2.3</td>\n",
       "      <td>26.0</td>\n",
       "      <td>8.0</td>\n",
       "    </tr>\n",
       "    <tr>\n",
       "      <th>4160</th>\n",
       "      <td>16/12/1985</td>\n",
       "      <td>0.0</td>\n",
       "      <td>2.7</td>\n",
       "      <td>25.0</td>\n",
       "      <td>9.0</td>\n",
       "    </tr>\n",
       "    <tr>\n",
       "      <th>4161</th>\n",
       "      <td>17/12/1985</td>\n",
       "      <td>0.0</td>\n",
       "      <td>0.8</td>\n",
       "      <td>19.0</td>\n",
       "      <td>10.0</td>\n",
       "    </tr>\n",
       "    <tr>\n",
       "      <th>4162</th>\n",
       "      <td>18/12/1985</td>\n",
       "      <td>0.0</td>\n",
       "      <td>2.3</td>\n",
       "      <td>29.0</td>\n",
       "      <td>9.0</td>\n",
       "    </tr>\n",
       "    <tr>\n",
       "      <th>4163</th>\n",
       "      <td>19/12/1985</td>\n",
       "      <td>0.0</td>\n",
       "      <td>0.9</td>\n",
       "      <td>31.0</td>\n",
       "      <td>11.0</td>\n",
       "    </tr>\n",
       "    <tr>\n",
       "      <th>4164</th>\n",
       "      <td>20/12/1985</td>\n",
       "      <td>0.0</td>\n",
       "      <td>1.5</td>\n",
       "      <td>27.0</td>\n",
       "      <td>12.0</td>\n",
       "    </tr>\n",
       "    <tr>\n",
       "      <th>4165</th>\n",
       "      <td>21/12/1985</td>\n",
       "      <td>0.0</td>\n",
       "      <td>2.0</td>\n",
       "      <td>28.0</td>\n",
       "      <td>12.0</td>\n",
       "    </tr>\n",
       "    <tr>\n",
       "      <th>4166</th>\n",
       "      <td>22/12/1985</td>\n",
       "      <td>0.0</td>\n",
       "      <td>2.4</td>\n",
       "      <td>25.0</td>\n",
       "      <td>12.5</td>\n",
       "    </tr>\n",
       "    <tr>\n",
       "      <th>4167</th>\n",
       "      <td>23/12/1985</td>\n",
       "      <td>0.0</td>\n",
       "      <td>2.5</td>\n",
       "      <td>28.0</td>\n",
       "      <td>12.0</td>\n",
       "    </tr>\n",
       "    <tr>\n",
       "      <th>4168</th>\n",
       "      <td>24/12/1985</td>\n",
       "      <td>0.0</td>\n",
       "      <td>2.6</td>\n",
       "      <td>27.0</td>\n",
       "      <td>12.5</td>\n",
       "    </tr>\n",
       "    <tr>\n",
       "      <th>4169</th>\n",
       "      <td>25/12/1985</td>\n",
       "      <td>0.0</td>\n",
       "      <td>2.1</td>\n",
       "      <td>27.0</td>\n",
       "      <td>11.0</td>\n",
       "    </tr>\n",
       "    <tr>\n",
       "      <th>4170</th>\n",
       "      <td>26/12/1985</td>\n",
       "      <td>0.0</td>\n",
       "      <td>2.1</td>\n",
       "      <td>27.0</td>\n",
       "      <td>10.0</td>\n",
       "    </tr>\n",
       "    <tr>\n",
       "      <th>4171</th>\n",
       "      <td>27/12/1985</td>\n",
       "      <td>0.0</td>\n",
       "      <td>1.5</td>\n",
       "      <td>27.5</td>\n",
       "      <td>10.0</td>\n",
       "    </tr>\n",
       "    <tr>\n",
       "      <th>4172</th>\n",
       "      <td>28/12/1985</td>\n",
       "      <td>0.0</td>\n",
       "      <td>2.9</td>\n",
       "      <td>28.0</td>\n",
       "      <td>10.0</td>\n",
       "    </tr>\n",
       "    <tr>\n",
       "      <th>4173</th>\n",
       "      <td>29/12/1985</td>\n",
       "      <td>0.0</td>\n",
       "      <td>4.6</td>\n",
       "      <td>28.5</td>\n",
       "      <td>11.5</td>\n",
       "    </tr>\n",
       "    <tr>\n",
       "      <th>4174</th>\n",
       "      <td>30/12/1985</td>\n",
       "      <td>0.0</td>\n",
       "      <td>3.6</td>\n",
       "      <td>30.0</td>\n",
       "      <td>11.5</td>\n",
       "    </tr>\n",
       "    <tr>\n",
       "      <th>4175</th>\n",
       "      <td>31/12/1985</td>\n",
       "      <td>0.0</td>\n",
       "      <td>1.4</td>\n",
       "      <td>30.0</td>\n",
       "      <td>10.0</td>\n",
       "    </tr>\n",
       "  </tbody>\n",
       "</table>\n",
       "<p>4175 rows × 5 columns</p>\n",
       "</div>"
      ],
      "text/plain": [
       "           FECHA  PRECIP  EVAP  TMAX  TMIN\n",
       "0     16/01/1969     0.0   3.2  26.0  13.5\n",
       "1     17/01/1969     0.0   2.6  27.0  13.0\n",
       "2     18/01/1969     0.0   0.5  26.0  11.5\n",
       "3     19/01/1969     0.0   5.1  25.0  11.5\n",
       "4     20/01/1969     0.0   3.5  29.0  10.5\n",
       "5     21/01/1969     0.0   2.0  29.0   9.5\n",
       "6     22/01/1969     0.0   3.0  28.5  11.0\n",
       "7     23/01/1969     0.0   2.8  27.5  11.0\n",
       "8     24/01/1969     0.0   3.9  29.0  10.0\n",
       "9     25/01/1969     0.0   2.5  29.0  10.0\n",
       "10    26/01/1969     0.0   2.8  32.0  10.5\n",
       "11    27/01/1969     0.0   2.0  29.0  11.5\n",
       "12    28/01/1969     0.0   3.4  29.0  13.5\n",
       "13    29/01/1969     0.0   5.7  25.0  15.5\n",
       "14    30/01/1969     0.0   0.9  24.5  14.5\n",
       "15    31/01/1969     0.0   3.7  19.5  14.0\n",
       "16    01/02/1969     0.0   5.2  22.5  12.5\n",
       "17    02/02/1969     0.0   1.8  24.0   9.0\n",
       "18    03/02/1969     3.0   2.0  23.0   9.0\n",
       "19    04/02/1969     0.0   5.0  28.5  12.0\n",
       "20    05/02/1969     1.0   4.6  22.5  12.5\n",
       "21    06/02/1969     0.0   0.8  25.0  16.0\n",
       "22    07/02/1969     0.9   6.2  27.0  14.0\n",
       "23    08/02/1969     0.0   2.2  20.0  13.0\n",
       "24    09/02/1969     0.0   2.4  28.0  13.0\n",
       "25    10/02/1969     0.0   4.3  29.0  12.0\n",
       "26    11/02/1969     4.5   3.9  28.0  11.0\n",
       "27    12/02/1969     0.0   3.1  26.0   9.0\n",
       "28    13/02/1969     0.0   4.1  22.5  14.5\n",
       "29    14/02/1969     0.0   3.0  26.0  10.0\n",
       "...          ...     ...   ...   ...   ...\n",
       "4146  02/12/1985     0.0   1.3  29.0  12.0\n",
       "4147  03/12/1985     0.0   3.7  29.0  11.0\n",
       "4148  04/12/1985     0.0   2.4  30.0  13.0\n",
       "4149  05/12/1985     0.0   2.6  28.5  11.0\n",
       "4150  06/12/1985     0.0   2.2  30.0  12.5\n",
       "4151  07/12/1985     0.0   2.5  27.5  15.5\n",
       "4152  08/12/1985     0.0   2.8  29.0  13.0\n",
       "4153  09/12/1985     0.0   2.7  33.0   9.5\n",
       "4154  10/12/1985     0.0   2.2  24.5  10.5\n",
       "4155  11/12/1985     0.0   2.8  27.5  10.0\n",
       "4156  12/12/1985     0.0   4.1  22.0  11.0\n",
       "4157  13/12/1985     0.0   3.2  24.0   7.5\n",
       "4158  14/12/1985     0.0   3.0  25.0   9.0\n",
       "4159  15/12/1985     0.0   2.3  26.0   8.0\n",
       "4160  16/12/1985     0.0   2.7  25.0   9.0\n",
       "4161  17/12/1985     0.0   0.8  19.0  10.0\n",
       "4162  18/12/1985     0.0   2.3  29.0   9.0\n",
       "4163  19/12/1985     0.0   0.9  31.0  11.0\n",
       "4164  20/12/1985     0.0   1.5  27.0  12.0\n",
       "4165  21/12/1985     0.0   2.0  28.0  12.0\n",
       "4166  22/12/1985     0.0   2.4  25.0  12.5\n",
       "4167  23/12/1985     0.0   2.5  28.0  12.0\n",
       "4168  24/12/1985     0.0   2.6  27.0  12.5\n",
       "4169  25/12/1985     0.0   2.1  27.0  11.0\n",
       "4170  26/12/1985     0.0   2.1  27.0  10.0\n",
       "4171  27/12/1985     0.0   1.5  27.5  10.0\n",
       "4172  28/12/1985     0.0   2.9  28.0  10.0\n",
       "4173  29/12/1985     0.0   4.6  28.5  11.5\n",
       "4174  30/12/1985     0.0   3.6  30.0  11.5\n",
       "4175  31/12/1985     0.0   1.4  30.0  10.0\n",
       "\n",
       "[4175 rows x 5 columns]"
      ]
     },
     "execution_count": 1,
     "metadata": {},
     "output_type": "execute_result"
    }
   ],
   "source": [
    "import pandas as pd\n",
    "import numpy as np\n",
    "import matplotlib.pyplot as plt\n",
    "\n",
    "missing=['Nulo']\n",
    "df = pd.read_csv('Guasave.txt', sep='\\s+', na_values=missing)\n",
    "pd.isnull(df)\n",
    "\n",
    "\n",
    "df.dropna()\n"
   ]
  },
  {
   "cell_type": "code",
   "execution_count": 2,
   "metadata": {},
   "outputs": [],
   "source": [
    "df[\"FECHAS\"] = pd.to_datetime(df['FECHA'], format='%d/%m/%Y')\n",
    "df = df.drop('FECHA', 1)"
   ]
  },
  {
   "cell_type": "code",
   "execution_count": 3,
   "metadata": {},
   "outputs": [
    {
     "data": {
      "text/plain": [
       "(   PRECIP  EVAP  TMAX  TMIN     FECHAS\n",
       " 0     0.0   3.2  26.0  13.5 1969-01-16\n",
       " 1     0.0   2.6  27.0  13.0 1969-01-17\n",
       " 2     0.0   0.5  26.0  11.5 1969-01-18\n",
       " 3     0.0   5.1  25.0  11.5 1969-01-19\n",
       " 4     0.0   3.5  29.0  10.5 1969-01-20,\n",
       "       PRECIP  EVAP  TMAX  TMIN     FECHAS\n",
       " 4171     0.0   1.5  27.5  10.0 1985-12-27\n",
       " 4172     0.0   2.9  28.0  10.0 1985-12-28\n",
       " 4173     0.0   4.6  28.5  11.5 1985-12-29\n",
       " 4174     0.0   3.6  30.0  11.5 1985-12-30\n",
       " 4175     0.0   1.4  30.0  10.0 1985-12-31)"
      ]
     },
     "execution_count": 3,
     "metadata": {},
     "output_type": "execute_result"
    }
   ],
   "source": [
    "df.head(), df.tail()"
   ]
  },
  {
   "cell_type": "code",
   "execution_count": 4,
   "metadata": {},
   "outputs": [
    {
     "data": {
      "text/plain": [
       "PRECIP           float64\n",
       "EVAP             float64\n",
       "TMAX             float64\n",
       "TMIN             float64\n",
       "FECHAS    datetime64[ns]\n",
       "dtype: object"
      ]
     },
     "execution_count": 4,
     "metadata": {},
     "output_type": "execute_result"
    }
   ],
   "source": [
    "df.dtypes"
   ]
  },
  {
   "cell_type": "code",
   "execution_count": 5,
   "metadata": {},
   "outputs": [
    {
     "data": {
      "text/plain": [
       "(   PRECIP  EVAP  TMAX  TMIN     FECHAS   Año  Mes\n",
       " 0     0.0   3.2  26.0  13.5 1969-01-16  1969    1\n",
       " 1     0.0   2.6  27.0  13.0 1969-01-17  1969    1\n",
       " 2     0.0   0.5  26.0  11.5 1969-01-18  1969    1\n",
       " 3     0.0   5.1  25.0  11.5 1969-01-19  1969    1\n",
       " 4     0.0   3.5  29.0  10.5 1969-01-20  1969    1,\n",
       "       PRECIP  EVAP  TMAX  TMIN     FECHAS   Año  Mes\n",
       " 4171     0.0   1.5  27.5  10.0 1985-12-27  1985   12\n",
       " 4172     0.0   2.9  28.0  10.0 1985-12-28  1985   12\n",
       " 4173     0.0   4.6  28.5  11.5 1985-12-29  1985   12\n",
       " 4174     0.0   3.6  30.0  11.5 1985-12-30  1985   12\n",
       " 4175     0.0   1.4  30.0  10.0 1985-12-31  1985   12)"
      ]
     },
     "execution_count": 5,
     "metadata": {},
     "output_type": "execute_result"
    }
   ],
   "source": [
    "#Para crear una columna \"Año\" con los datos \"year\" de la\n",
    "#columna 'FECHAS'\n",
    "df['Año'] = df['FECHAS'].dt.year\n",
    "#Para crear una columna \"Mes\" con los datos \"month\" de la\n",
    "#columna 'FECHAS'\n",
    "df['Mes'] = df['FECHAS'].dt.month\n",
    "df.head(), df.tail()"
   ]
  },
  {
   "cell_type": "code",
   "execution_count": 6,
   "metadata": {},
   "outputs": [
    {
     "data": {
      "text/plain": [
       "FECHAS\n",
       "April        0.053271\n",
       "August       3.540491\n",
       "December     0.901183\n",
       "February     0.184046\n",
       "January      0.797872\n",
       "July         3.214663\n",
       "June         0.253185\n",
       "March        0.164804\n",
       "May          0.000000\n",
       "November     0.702584\n",
       "October      2.000993\n",
       "September    4.320833\n",
       "Name: PRECIP, dtype: float64"
      ]
     },
     "execution_count": 6,
     "metadata": {},
     "output_type": "execute_result"
    }
   ],
   "source": [
    "df.groupby(df['FECHAS'].dt.strftime('%B'))['PRECIP'].mean()"
   ]
  },
  {
   "cell_type": "code",
   "execution_count": 7,
   "metadata": {},
   "outputs": [
    {
     "name": "stdout",
     "output_type": "stream",
     "text": [
      "(14, 'a\\xc3\\xb1os de datos')\n"
     ]
    }
   ],
   "source": [
    "NumA = len(df['Año'].unique())\n",
    "print(NumA, \"años de datos\")"
   ]
  },
  {
   "cell_type": "code",
   "execution_count": 8,
   "metadata": {},
   "outputs": [
    {
     "name": "stdout",
     "output_type": "stream",
     "text": [
      "('Mes', 1, ':', 21.43, 'mm', ', Acumulada:', 21.43, 'mm')\n",
      "('Mes', 2, ':', 4.61, 'mm', ', Acumulada:', 26.04, 'mm')\n",
      "('Mes', 3, ':', 4.21, 'mm', ', Acumulada:', 30.26, 'mm')\n",
      "('Mes', 4, ':', 1.22, 'mm', ', Acumulada:', 31.48, 'mm')\n",
      "('Mes', 5, ':', 0.0, 'mm', ', Acumulada:', 31.48, 'mm')\n",
      "('Mes', 6, ':', 5.68, 'mm', ', Acumulada:', 37.16, 'mm')\n",
      "('Mes', 7, ':', 78.3, 'mm', ', Acumulada:', 115.46, 'mm')\n",
      "('Mes', 8, ':', 82.44, 'mm', ', Acumulada:', 197.9, 'mm')\n",
      "('Mes', 9, ':', 111.11, 'mm', ', Acumulada:', 309.01, 'mm')\n",
      "('Mes', 10, ':', 57.6, 'mm', ', Acumulada:', 366.61, 'mm')\n",
      "('Mes', 11, ':', 19.42, 'mm', ', Acumulada:', 386.03, 'mm')\n",
      "('Mes', 12, ':', 21.76, 'mm', ', Acumulada:', 407.79, 'mm')\n"
     ]
    }
   ],
   "source": [
    "total=0.0\n",
    "PMP = []   #Declara la lista PMP: PrecipitaciónMensual\n",
    "MTH = []\n",
    "PMPA = []\n",
    "for i in range(12):\n",
    "    PrecipMensual = df['PRECIP'][df['Mes']==[i+1]].sum()/NumA\n",
    "    total=total+PrecipMensual\n",
    "    PMP.append(PrecipMensual)\n",
    "    MTH.append(i+1)\n",
    "    PMPA.append(total)\n",
    "    #print(PMP)\n",
    "    print(\"Mes\", i+1,\":\", np.round(PrecipMensual, decimals=2), \"mm\", \", Acumulada:\", \n",
    "          np.round(total, decimals=2), \"mm\")"
   ]
  },
  {
   "cell_type": "code",
   "execution_count": 9,
   "metadata": {},
   "outputs": [
    {
     "name": "stdout",
     "output_type": "stream",
     "text": [
      "[21.428571428571427, 4.614285714285714, 4.214285714285714, 1.2214285714285715, 0.0, 5.678571428571429, 78.29999999999998, 82.44285714285715, 111.10714285714286, 57.6, 19.42142857142857, 21.75714285714286]\n",
      "[1, 2, 3, 4, 5, 6, 7, 8, 9, 10, 11, 12]\n",
      "[21.428571428571427, 26.04285714285714, 30.257142857142856, 31.478571428571428, 31.478571428571428, 37.15714285714286, 115.45714285714284, 197.89999999999998, 309.00714285714287, 366.6071428571429, 386.02857142857147, 407.78571428571433]\n"
     ]
    }
   ],
   "source": [
    "print(PMP)    #Para imprimir las listas y estar seguros de que, como mínimo, tengan datos.\n",
    "print(MTH)\n",
    "print(PMPA)"
   ]
  },
  {
   "cell_type": "code",
   "execution_count": 10,
   "metadata": {},
   "outputs": [
    {
     "data": {
      "image/png": "[encoded data removed]",
      "text/plain": [
       "<Figure size 432x288 with 1 Axes>"
      ]
     },
     "metadata": {
      "needs_background": "light"
     },
     "output_type": "display_data"
    }
   ],
   "source": [
    "plt.bar(MTH, PMP)   #plt.bar(\"x\",\"y\"), siendo <x> y <y> dos listas de misma dimensión\n",
    "\n",
    "plt.grid(True)\n",
    "\n",
    "plt.show()\n",
    "\n",
    "#En este caso se grafica el número del mes con su PresipitaciónMensualPromedio"
   ]
  },
  {
   "cell_type": "code",
   "execution_count": 11,
   "metadata": {},
   "outputs": [
    {
     "data": {
      "image/png": "[encoded data removed]",
      "text/plain": [
       "<Figure size 432x288 with 1 Axes>"
      ]
     },
     "metadata": {
      "needs_background": "light"
     },
     "output_type": "display_data"
    }
   ],
   "source": [
    "plt.bar(MTH, PMPA)   #En este caso se grafica al mes con la PrecipitaciónMensualPromedioAcumulada\n",
    "plt.grid(True)\n",
    "plt.show()"
   ]
  },
  {
   "cell_type": "code",
   "execution_count": 12,
   "metadata": {},
   "outputs": [
    {
     "data": {
      "text/plain": [
       "FECHAS\n",
       "1969    0.632313\n",
       "1971    1.435071\n",
       "1973    0.872222\n",
       "1974    1.485165\n",
       "1975    1.080822\n",
       "1976    3.022318\n",
       "1977    0.294915\n",
       "1979    1.202604\n",
       "1980    0.354745\n",
       "1981    1.383611\n",
       "1982    2.022740\n",
       "1983    1.637912\n",
       "1984    2.199452\n",
       "1985    0.865205\n",
       "Name: PRECIP, dtype: float64"
      ]
     },
     "execution_count": 12,
     "metadata": {},
     "output_type": "execute_result"
    }
   ],
   "source": [
    "df.groupby(df['FECHAS'].dt.strftime('%Y'))['PRECIP'].mean()"
   ]
  },
  {
   "cell_type": "code",
   "execution_count": 13,
   "metadata": {},
   "outputs": [],
   "source": [
    "year=[1969, 1970, 1971, 1972, 1973, 1974, 1975, 1976, 1977, 1978, 1979, 1980, 1981, 1982, 1983, 1984, 1985]\n",
    "Prp=[0.794801, 0.817534, 1.201198, 1.126647, 0.790265, 1.481918, 1.080822, 2.103582, 0.971233, 1.090820, 1.023757, 0.354745, 1.364658, 2.022740, 1.633425, 2.267213, 0.865205]\n",
    "#year.append[1969, 1970, 1971, 1972, 1973, 1974, 1975, 1976, 1977, 1978, 1979, 1980, 1981, 1982, 1983, 1984, 1985]\n",
    "#Prp.append[0.794801, 0.817534, 1.201198, 1.126647, 0.790265, 1.481918, 1.080822, 2.103582, 0.971233, 1.090820, 1.023757, 0.354745, 1.364658, 2.022740, 1.633425, 2.267213, 0.865205]\n"
   ]
  },
  {
   "cell_type": "code",
   "execution_count": 14,
   "metadata": {},
   "outputs": [
    {
     "data": {
      "text/plain": [
       "<BarContainer object of 17 artists>"
      ]
     },
     "execution_count": 14,
     "metadata": {},
     "output_type": "execute_result"
    },
    {
     "data": {
      "image/png": "[encoded data removed]",
      "text/plain": [
       "<Figure size 432x288 with 1 Axes>"
      ]
     },
     "metadata": {
      "needs_background": "light"
     },
     "output_type": "display_data"
    }
   ],
   "source": [
    "plt.bar(year, Prp)"
   ]
  },
  {
   "cell_type": "code",
   "execution_count": 15,
   "metadata": {},
   "outputs": [
    {
     "data": {
      "image/png": "[encoded data removed]",
      "text/plain": [
       "<Figure size 432x288 with 1 Axes>"
      ]
     },
     "metadata": {
      "needs_background": "light"
     },
     "output_type": "display_data"
    }
   ],
   "source": [
    "co = df[[\"TMAX\",\"TMIN\"]]\n",
    "plt.plot(df.FECHAS, co)\n",
    "plt.grid(True)\n",
    "plt.show()"
   ]
  },
  {
   "cell_type": "code",
   "execution_count": 60,
   "metadata": {
    "scrolled": true
   },
   "outputs": [
    {
     "name": "stdout",
     "output_type": "stream",
     "text": [
      "[FECHAS\n",
      "April        33.143302\n",
      "August       35.860429\n",
      "December     27.374260\n",
      "February     28.581197\n",
      "January      26.563830\n",
      "July         36.004399\n",
      "June         36.371019\n",
      "March        30.340782\n",
      "May          35.236545\n",
      "November     31.332041\n",
      "October      34.594293\n",
      "September    35.598611\n",
      "Name: TMAX, dtype: float64]\n"
     ]
    }
   ],
   "source": [
    "#Se crea una lista con la temperatura máxima promedio\n",
    "#para  luego usarlo en el diagrama de caja\n",
    "TMPM=[]\n",
    "TMPM=[df.groupby(df['FECHAS'].dt.strftime('%B'))['TMAX'].mean()]\n",
    "print(TMPM)"
   ]
  },
  {
   "cell_type": "code",
   "execution_count": 59,
   "metadata": {},
   "outputs": [
    {
     "name": "stdout",
     "output_type": "stream",
     "text": [
      "[FECHAS\n",
      "April        13.674766\n",
      "August       24.739264\n",
      "December     11.085799\n",
      "February     10.543020\n",
      "January      10.468085\n",
      "July         24.626100\n",
      "June         22.515924\n",
      "March        11.444134\n",
      "May          16.682724\n",
      "November     14.405943\n",
      "October      19.759553\n",
      "September    24.083333\n",
      "Name: TMIN, dtype: float64]\n"
     ]
    }
   ],
   "source": [
    "#Se llena una lista con la temperatura promedio mínima mensual\n",
    "#para después usarlo en el diagrama de caja\n",
    "TmPM = []\n",
    "TmPM = [df.groupby(df['FECHAS'].dt.strftime('%B'))['TMIN'].mean()]\n",
    "print(TmPM)"
   ]
  },
  {
   "cell_type": "code",
   "execution_count": 68,
   "metadata": {},
   "outputs": [
    {
     "data": {
      "text/plain": [
       "Text(0.5,1,'Promedio de la Temp Min Mensual')"
      ]
     },
     "execution_count": 68,
     "metadata": {},
     "output_type": "execute_result"
    },
    {
     "data": {
      "image/png": "[encoded data removed]",
      "text/plain": [
       "<Figure size 720x360 with 2 Axes>"
      ]
     },
     "metadata": {
      "needs_background": "light"
     },
     "output_type": "display_data"
    }
   ],
   "source": [
    "fig, axes = plt.subplots(nrows=1, ncols=2, figsize=(10, 5))\n",
    "bplot1 = axes[0].boxplot(TMPM, vert=True, patch_artist=True)\n",
    "bplot2 = axes[1].boxplot(TmPM, vert=True, patch_artist=True)\n",
    "axes[0].set_title('Promedio de la Temp Max Mensual')\n",
    "axes[1].set_title('Promedio de la Temp Min Mensual')\n",
    "#Aquí se grafican dos diagramas de caja distintos, uno para\n",
    "#la temperatura mensual promedio mínima y otro para la \n",
    "#máxima\n",
    "#patch_artist sirve para llenarlas de color\n",
    "#nrows es para el número de filas\n",
    "#ncols para el número de columnas\n",
    "#nrows, ncols funcionan como una cuadrícula, donde cada\n",
    "#unidad cuadrada representa un diagrama de caja\n",
    "#\n",
    "#axes[i] funciona para definir un diagrama de caja\n",
    "#su índice es para diferenciar los diagramas"
   ]
  },
  {
   "cell_type": "code",
   "execution_count": 61,
   "metadata": {},
   "outputs": [
    {
     "name": "stdout",
     "output_type": "stream",
     "text": [
      "[FECHAS\n",
      "1969    32.697279\n",
      "1971    30.578199\n",
      "1973    32.849673\n",
      "1974    32.435440\n",
      "1975    32.395890\n",
      "1976    32.916309\n",
      "1977    29.894068\n",
      "1979    34.588542\n",
      "1980    32.326642\n",
      "1981    32.929167\n",
      "1982    33.409589\n",
      "1983    32.858516\n",
      "1984    31.747945\n",
      "1985    31.807397\n",
      "Name: TMAX, dtype: float64]\n"
     ]
    }
   ],
   "source": [
    "#Se llena una lista con la temperatura promedio mínima anual\n",
    "#para después usarlo en el diagrama de caja\n",
    "TMPA = []\n",
    "TMPA = [df.groupby(df['FECHAS'].dt.strftime('%Y'))['TMAX'].mean()]\n",
    "print(TMPA)"
   ]
  },
  {
   "cell_type": "code",
   "execution_count": 62,
   "metadata": {},
   "outputs": [
    {
     "name": "stdout",
     "output_type": "stream",
     "text": [
      "[FECHAS\n",
      "1969    17.513605\n",
      "1971    13.592417\n",
      "1973    16.722222\n",
      "1974    16.575549\n",
      "1975    16.026027\n",
      "1976    18.688841\n",
      "1977    10.830508\n",
      "1979    19.882812\n",
      "1980    15.155109\n",
      "1981    18.001389\n",
      "1982    17.271233\n",
      "1983    17.728022\n",
      "1984    17.513699\n",
      "1985    17.487397\n",
      "Name: TMIN, dtype: float64]\n"
     ]
    }
   ],
   "source": [
    "#Se llena una lista con la temperatura promedio mínima anual\n",
    "#para después usarlo en el diagrama de caja\n",
    "TmPA = []\n",
    "TmPA = [df.groupby(df['FECHAS'].dt.strftime('%Y'))['TMIN'].mean()]\n",
    "print(TmPA)"
   ]
  },
  {
   "cell_type": "code",
   "execution_count": 67,
   "metadata": {},
   "outputs": [
    {
     "data": {
      "text/plain": [
       "Text(0.5,1,'Promedio de la Temp Min Anual')"
      ]
     },
     "execution_count": 67,
     "metadata": {},
     "output_type": "execute_result"
    },
    {
     "data": {
      "image/png": "[encoded data removed]",
      "text/plain": [
       "<Figure size 720x360 with 2 Axes>"
      ]
     },
     "metadata": {
      "needs_background": "light"
     },
     "output_type": "display_data"
    }
   ],
   "source": [
    "fig, axes = plt.subplots(nrows=1, ncols=2, figsize=(10, 5))\n",
    "bplot1 = axes[0].boxplot(TMPA, vert=True, patch_artist=True)\n",
    "bplot2 = axes[1].boxplot(TmPA, vert=True, patch_artist=True)\n",
    "axes[0].set_title('Promedio de la Temp Max Anual')\n",
    "axes[1].set_title('Promedio de la Temp Min Anual')"
   ]
  },
  {
   "cell_type": "code",
   "execution_count": null,
   "metadata": {},
   "outputs": [],
   "source": []
  }
 ],
 "metadata": {
  "kernelspec": {
   "display_name": "Python 3",
   "language": "python",
   "name": "python3"
  },
  "language_info": {
   "codemirror_mode": {
    "name": "ipython",
    "version": 2
   },
   "file_extension": ".py",
   "mimetype": "text/x-python",
   "name": "python",
   "nbconvert_exporter": "python",
   "pygments_lexer": "ipython2",
   "version": "2.7.15"
  }
 },
 "nbformat": 4,
 "nbformat_minor": 2
}
