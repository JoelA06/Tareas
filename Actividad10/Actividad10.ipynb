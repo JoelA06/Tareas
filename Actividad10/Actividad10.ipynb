{
 "cells": [
  {
   "cell_type": "code",
   "execution_count": 17,
   "metadata": {},
   "outputs": [
    {
     "ename": "AttributeError",
     "evalue": "'ode' object has no attribute 'ommega'",
     "output_type": "error",
     "traceback": [
      "\u001b[0;31m---------------------------------------------------------------------------\u001b[0m",
      "\u001b[0;31mAttributeError\u001b[0m                            Traceback (most recent call last)",
      "\u001b[0;32m<ipython-input-17-f538ec27fb65>\u001b[0m in \u001b[0;36m<module>\u001b[0;34m()\u001b[0m\n\u001b[1;32m     58\u001b[0m \u001b[0;32mwhile\u001b[0m \u001b[0msolver\u001b[0m\u001b[0;34m.\u001b[0m\u001b[0msuccessful\u001b[0m\u001b[0;34m(\u001b[0m\u001b[0;34m)\u001b[0m \u001b[0;32mand\u001b[0m \u001b[0msolver\u001b[0m\u001b[0;34m.\u001b[0m\u001b[0mt\u001b[0m \u001b[0;34m<\u001b[0m \u001b[0mt1\u001b[0m\u001b[0;34m:\u001b[0m\u001b[0;34m\u001b[0m\u001b[0m\n\u001b[1;32m     59\u001b[0m     \u001b[0msolver\u001b[0m\u001b[0;34m.\u001b[0m\u001b[0mintegrate\u001b[0m\u001b[0;34m(\u001b[0m\u001b[0mt\u001b[0m\u001b[0;34m[\u001b[0m\u001b[0mk\u001b[0m\u001b[0;34m]\u001b[0m\u001b[0;34m)\u001b[0m\u001b[0;34m\u001b[0m\u001b[0m\n\u001b[0;32m---> 60\u001b[0;31m     \u001b[0msol\u001b[0m\u001b[0;34m[\u001b[0m\u001b[0mk\u001b[0m\u001b[0;34m]\u001b[0m \u001b[0;34m=\u001b[0m \u001b[0msolver\u001b[0m\u001b[0;34m.\u001b[0m\u001b[0mommega\u001b[0m\u001b[0;34m\u001b[0m\u001b[0m\n\u001b[0m\u001b[1;32m     61\u001b[0m     \u001b[0mk\u001b[0m \u001b[0;34m+=\u001b[0m \u001b[0;36m1\u001b[0m\u001b[0;34m\u001b[0m\u001b[0m\n\u001b[1;32m     62\u001b[0m \u001b[0;34m\u001b[0m\u001b[0m\n",
      "\u001b[0;31mAttributeError\u001b[0m: 'ode' object has no attribute 'ommega'"
     ]
    }
   ],
   "source": [
    "import numpy as np\n",
    "import matplotlib.pyplot as plt\n",
    "from scipy.integrate import ode\n",
    "\n",
    "\n",
    "def fun(t, z, omega):\n",
    "    \"\"\"\n",
    "    Right hand side of the differential equations\n",
    "      dx/dt = -omega * y\n",
    "      dy/dt = omega * x\n",
    "    \"\"\"\n",
    "    import numpy as np\n",
    "import matplotlib.pyplot as plt\n",
    "from scipy.integrate import ode\n",
    "\n",
    "\n",
    "def fun(t, z):\n",
    "    \"\"\"\n",
    "    Right hand side of the differential equations\n",
    "      dx/dt = -omega * y\n",
    "      dy/dt = omega * x\n",
    "    \"\"\"\n",
    "    x, y = z\n",
    "    f = [y, gamma*np.cos(omega*t)-(delta*y+alfa*x+beta*x**3)]\n",
    "    return f\n",
    "\n",
    "# Create an `ode` instance to solve the system of differential\n",
    "# equations defined by `fun`, and set the solver method to 'dop853'.\n",
    "solver = ode(fun)\n",
    "solver.set_integrator('dop853')\n",
    "\n",
    "# Give the value of omega to the solver. This is passed to\n",
    "# `fun` when the solver calls it.\n",
    "omega = 2*np.pi\n",
    "alfa = 1.0\n",
    "gamma = 1.0\n",
    "delta = 0.1\n",
    "beta = 0.04\n",
    "solver.set_f_params(alfa, gamma, delta, beta)\n",
    "\n",
    "# Set the initial value z(0) = z0.\n",
    "t0 = 0.0\n",
    "z0 = [1, 0.25]\n",
    "solver.set_initial_value(z0, t0)\n",
    "\n",
    "# Create the array `t` of time values at which to compute\n",
    "# the solution, and create an array to hold the solution.\n",
    "# Put the initial value in the solution array.\n",
    "t1 = 2.5\n",
    "N = 100\n",
    "t = np.linspace(t0, t1, N)\n",
    "sol = np.empty((N, 2))\n",
    "sol[0] = z0\n",
    "\n",
    "# Repeatedly call the `integrate` method to advance the\n",
    "# solution to time t[k], and save the solution in sol[k].\n",
    "k = 1\n",
    "while solver.successful() and solver.t < t1:\n",
    "    solver.integrate(t[k])\n",
    "    sol[k] = solver.y\n",
    "    k += 1\n",
    "\n",
    "# Plot the solution...\n",
    "plt.plot(t, sol[:,0], label='x')\n",
    "plt.plot(t, sol[:,1], label='y')\n",
    "plt.xlabel('t')\n",
    "plt.grid(True)\n",
    "plt.legend()\n",
    "plt.show()"
   ]
  }
 ],
 "metadata": {
  "kernelspec": {
   "display_name": "Python 3",
   "language": "python",
   "name": "python3"
  },
  "language_info": {
   "codemirror_mode": {
    "name": "ipython",
    "version": 3
   },
   "file_extension": ".py",
   "mimetype": "text/x-python",
   "name": "python",
   "nbconvert_exporter": "python",
   "pygments_lexer": "ipython3",
   "version": "3.6.3"
  }
 },
 "nbformat": 4,
 "nbformat_minor": 2
}
